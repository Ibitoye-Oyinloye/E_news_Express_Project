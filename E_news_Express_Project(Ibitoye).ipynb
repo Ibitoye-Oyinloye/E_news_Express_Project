{
  "cells": [
    {
      "cell_type": "markdown",
      "metadata": {
        "id": "view-in-github",
        "colab_type": "text"
      },
      "source": [
        "<a href=\"https://colab.research.google.com/github/Ibitoye-Oyinloye/E_news_Express_Project/blob/main/E_news_Express_Project(Ibitoye).ipynb\" target=\"_parent\"><img src=\"https://colab.research.google.com/assets/colab-badge.svg\" alt=\"Open In Colab\"/></a>"
      ]
    },
    {
      "cell_type": "markdown",
      "metadata": {
        "id": "d6l6pBWuh6G5"
      },
      "source": [
        "## Problem Statement\n",
        "\n",
        "An online news portal aims to expand its business by acquiring new subscribers. Every visitor to the website takes certain actions based on their interest. The company plans to analyze these interests and wants to determine whether a new feature will be effective or not. Companies often analyze users' responses to two variants of a product to decide which of the two variants is more effective. This experimental technique is known as a/b testing that is used to determine whether a new feature attracts users based on a chosen metric.\n",
        "\n",
        "Suppose you are hired as a Data Scientist in E-news Express. The design team of the company has created a new landing page. You have been assigned the task to decide whether the new landing page is more effective to gather new subscribers. Suppose you randomly selected 100 users and divided them equally into two groups. The old landing page is served to the first group (control group) and the new landing page is served to the second group (treatment group). Various data about the customers in both groups are collected in 'abtest.csv'. Perform the statistical analysis to answer the following questions using the collected data.\n",
        "\n",
        "1. Explore the dataset and extract insights using Exploratory Data Analysis.\n",
        "\n",
        "2. Do the users spend more time on the new landing page than the existing landing page?\n",
        "\n",
        "3. Is the conversion rate (the proportion of users who visit the landing page and get converted) for the new page greater than the conversion rate for the old page?\n",
        "\n",
        "4. Does the converted status depend on the preferred language? [Hint: Create a contingency table using the pandas.crosstab() function]\n",
        "\n",
        "5. Is the time spent on the new page same for the different language users?\n",
        "\n",
        "\n",
        "*Consider a significance level of 0.05 for all tests.\n",
        "\n",
        "The  idea  behind  answering  these  questions  is  to  decide  whether  the  new  page  is  effective  enough  to  gather  new subscribers for the news portal. We will perform the statistical analysis on the collected data to make the business decision.\n"
      ]
    },
    {
      "cell_type": "markdown",
      "metadata": {
        "id": "wNj01H3ziOXl"
      },
      "source": [
        "# Data Dictionary\n",
        "\n",
        "1. user_id - This represents the user ID of the person visiting the website.\n",
        "\n",
        "2. group - This represents whether the user belongs to the first group (control) or the second group (treatment).\n",
        "\n",
        "3. landing_page - This represents whether the landing page is new or old.\n",
        "\n",
        "4. time_spent_on_the_page - This represents the time (in minutes) spent by the user on the landing page.\n",
        "\n",
        "5. converted - This represents whether the user gets converted to a subscriber of the news portal or not.\n",
        "\n",
        "6. language_preferred - This represents the language chosen by the user to view the landing page."
      ]
    },
    {
      "cell_type": "markdown",
      "metadata": {
        "id": "DQoA4LIAi4R4"
      },
      "source": [
        "## Import all the necessary libraries"
      ]
    },
    {
      "cell_type": "code",
      "execution_count": null,
      "metadata": {
        "id": "viyP4WH8iD-9"
      },
      "outputs": [],
      "source": [
        "import numpy as np\n",
        "import pandas as pd\n",
        "from matplotlib import pyplot as plt\n",
        "import seaborn as sns\n",
        "\n",
        "import warnings\n",
        "import io\n",
        "import os\n",
        "import sys"
      ]
    },
    {
      "cell_type": "code",
      "execution_count": null,
      "metadata": {
        "id": "TEXZmX4d8t-7",
        "outputId": "03761626-dd04-43f5-9627-b3127fda73ef"
      },
      "outputs": [
        {
          "data": {
            "text/html": [
              "<div>\n",
              "<style scoped>\n",
              "    .dataframe tbody tr th:only-of-type {\n",
              "        vertical-align: middle;\n",
              "    }\n",
              "\n",
              "    .dataframe tbody tr th {\n",
              "        vertical-align: top;\n",
              "    }\n",
              "\n",
              "    .dataframe thead th {\n",
              "        text-align: right;\n",
              "    }\n",
              "</style>\n",
              "<table border=\"1\" class=\"dataframe\">\n",
              "  <thead>\n",
              "    <tr style=\"text-align: right;\">\n",
              "      <th></th>\n",
              "      <th>user_id</th>\n",
              "      <th>group</th>\n",
              "      <th>landing_page</th>\n",
              "      <th>time_spent_on_the_page</th>\n",
              "      <th>converted</th>\n",
              "      <th>language_preferred</th>\n",
              "    </tr>\n",
              "  </thead>\n",
              "  <tbody>\n",
              "    <tr>\n",
              "      <th>0</th>\n",
              "      <td>546592</td>\n",
              "      <td>control</td>\n",
              "      <td>old</td>\n",
              "      <td>3.48</td>\n",
              "      <td>no</td>\n",
              "      <td>Spanish</td>\n",
              "    </tr>\n",
              "    <tr>\n",
              "      <th>1</th>\n",
              "      <td>546468</td>\n",
              "      <td>treatment</td>\n",
              "      <td>new</td>\n",
              "      <td>7.13</td>\n",
              "      <td>yes</td>\n",
              "      <td>English</td>\n",
              "    </tr>\n",
              "    <tr>\n",
              "      <th>2</th>\n",
              "      <td>546462</td>\n",
              "      <td>treatment</td>\n",
              "      <td>new</td>\n",
              "      <td>4.40</td>\n",
              "      <td>no</td>\n",
              "      <td>Spanish</td>\n",
              "    </tr>\n",
              "    <tr>\n",
              "      <th>3</th>\n",
              "      <td>546567</td>\n",
              "      <td>control</td>\n",
              "      <td>old</td>\n",
              "      <td>3.02</td>\n",
              "      <td>no</td>\n",
              "      <td>French</td>\n",
              "    </tr>\n",
              "    <tr>\n",
              "      <th>4</th>\n",
              "      <td>546459</td>\n",
              "      <td>treatment</td>\n",
              "      <td>new</td>\n",
              "      <td>4.75</td>\n",
              "      <td>yes</td>\n",
              "      <td>Spanish</td>\n",
              "    </tr>\n",
              "  </tbody>\n",
              "</table>\n",
              "</div>"
            ],
            "text/plain": [
              "   user_id      group landing_page  time_spent_on_the_page converted  \\\n",
              "0   546592    control          old                    3.48        no   \n",
              "1   546468  treatment          new                    7.13       yes   \n",
              "2   546462  treatment          new                    4.40        no   \n",
              "3   546567    control          old                    3.02        no   \n",
              "4   546459  treatment          new                    4.75       yes   \n",
              "\n",
              "  language_preferred  \n",
              "0            Spanish  \n",
              "1            English  \n",
              "2            Spanish  \n",
              "3             French  \n",
              "4            Spanish  "
            ]
          },
          "execution_count": 3,
          "metadata": {},
          "output_type": "execute_result"
        }
      ],
      "source": [
        "df = pd.read_csv('abtest.csv')\n",
        "df.head()"
      ]
    },
    {
      "cell_type": "code",
      "execution_count": null,
      "metadata": {
        "colab": {
          "base_uri": "https://localhost:8080/"
        },
        "id": "lrx-Xg4vi7Y4",
        "outputId": "3d08d7b1-59d9-4561-eb64-34321ba1a40a"
      },
      "outputs": [
        {
          "name": "stdout",
          "output_type": "stream",
          "text": [
            "Drive already mounted at /content/gdrive; to attempt to forcibly remount, call drive.mount(\"/content/gdrive\", force_remount=True).\n"
          ]
        }
      ],
      "source": [
        "#from google.colab import drive\n",
        "#drive.mount('/content/gdrive')\n"
      ]
    },
    {
      "cell_type": "code",
      "execution_count": null,
      "metadata": {
        "colab": {
          "base_uri": "https://localhost:8080/",
          "height": 270
        },
        "id": "Q-uPc2GhjUxm",
        "outputId": "44c824c9-6dba-436e-eeb4-7624451d3910"
      },
      "outputs": [
        {
          "data": {
            "text/html": [
              "<div>\n",
              "<style scoped>\n",
              "    .dataframe tbody tr th:only-of-type {\n",
              "        vertical-align: middle;\n",
              "    }\n",
              "\n",
              "    .dataframe tbody tr th {\n",
              "        vertical-align: top;\n",
              "    }\n",
              "\n",
              "    .dataframe thead th {\n",
              "        text-align: right;\n",
              "    }\n",
              "</style>\n",
              "<table border=\"1\" class=\"dataframe\">\n",
              "  <thead>\n",
              "    <tr style=\"text-align: right;\">\n",
              "      <th></th>\n",
              "      <th>user_id</th>\n",
              "      <th>group</th>\n",
              "      <th>landing_page</th>\n",
              "      <th>time_spent_on_the_page</th>\n",
              "      <th>converted</th>\n",
              "      <th>language_preferred</th>\n",
              "    </tr>\n",
              "  </thead>\n",
              "  <tbody>\n",
              "    <tr>\n",
              "      <th>9</th>\n",
              "      <td>546548</td>\n",
              "      <td>control</td>\n",
              "      <td>old</td>\n",
              "      <td>2.08</td>\n",
              "      <td>no</td>\n",
              "      <td>English</td>\n",
              "    </tr>\n",
              "    <tr>\n",
              "      <th>84</th>\n",
              "      <td>546571</td>\n",
              "      <td>control</td>\n",
              "      <td>old</td>\n",
              "      <td>4.30</td>\n",
              "      <td>no</td>\n",
              "      <td>French</td>\n",
              "    </tr>\n",
              "    <tr>\n",
              "      <th>0</th>\n",
              "      <td>546592</td>\n",
              "      <td>control</td>\n",
              "      <td>old</td>\n",
              "      <td>3.48</td>\n",
              "      <td>no</td>\n",
              "      <td>Spanish</td>\n",
              "    </tr>\n",
              "    <tr>\n",
              "      <th>15</th>\n",
              "      <td>546466</td>\n",
              "      <td>treatment</td>\n",
              "      <td>new</td>\n",
              "      <td>6.27</td>\n",
              "      <td>yes</td>\n",
              "      <td>Spanish</td>\n",
              "    </tr>\n",
              "    <tr>\n",
              "      <th>8</th>\n",
              "      <td>546461</td>\n",
              "      <td>treatment</td>\n",
              "      <td>new</td>\n",
              "      <td>10.71</td>\n",
              "      <td>yes</td>\n",
              "      <td>French</td>\n",
              "    </tr>\n",
              "  </tbody>\n",
              "</table>\n",
              "</div>"
            ],
            "text/plain": [
              "    user_id      group landing_page  time_spent_on_the_page converted  \\\n",
              "9    546548    control          old                    2.08        no   \n",
              "84   546571    control          old                    4.30        no   \n",
              "0    546592    control          old                    3.48        no   \n",
              "15   546466  treatment          new                    6.27       yes   \n",
              "8    546461  treatment          new                   10.71       yes   \n",
              "\n",
              "   language_preferred  \n",
              "9             English  \n",
              "84             French  \n",
              "0             Spanish  \n",
              "15            Spanish  \n",
              "8              French  "
            ]
          },
          "execution_count": 4,
          "metadata": {},
          "output_type": "execute_result"
        }
      ],
      "source": [
        "# Read file directly from mounted link\n",
        "#df = pd.read_csv('/content/gdrive/MyDrive/abtest.csv')\n",
        "df.sample(n=5)\n"
      ]
    },
    {
      "cell_type": "markdown",
      "metadata": {
        "id": "IJ-GYADOljqI"
      },
      "source": [
        "### Understand the shape of the dataset"
      ]
    },
    {
      "cell_type": "code",
      "execution_count": null,
      "metadata": {
        "colab": {
          "base_uri": "https://localhost:8080/"
        },
        "id": "abzFkFyrkrK3",
        "outputId": "9ec695a4-3faf-4fbd-d6e9-aa0c0c7ce695"
      },
      "outputs": [
        {
          "data": {
            "text/plain": [
              "(100, 6)"
            ]
          },
          "execution_count": 5,
          "metadata": {},
          "output_type": "execute_result"
        }
      ],
      "source": [
        "df.shape"
      ]
    },
    {
      "cell_type": "markdown",
      "metadata": {
        "id": "xsjO48E5lmom"
      },
      "source": [
        "- The data is 100 rows by 6 columns"
      ]
    },
    {
      "cell_type": "code",
      "execution_count": null,
      "metadata": {
        "colab": {
          "base_uri": "https://localhost:8080/"
        },
        "id": "mHmHMf3MllVB",
        "outputId": "6f99011a-00f3-4a11-8184-e8e71abdc9d6"
      },
      "outputs": [
        {
          "name": "stdout",
          "output_type": "stream",
          "text": [
            "<class 'pandas.core.frame.DataFrame'>\n",
            "RangeIndex: 100 entries, 0 to 99\n",
            "Data columns (total 6 columns):\n",
            " #   Column                  Non-Null Count  Dtype  \n",
            "---  ------                  --------------  -----  \n",
            " 0   user_id                 100 non-null    int64  \n",
            " 1   group                   100 non-null    object \n",
            " 2   landing_page            100 non-null    object \n",
            " 3   time_spent_on_the_page  100 non-null    float64\n",
            " 4   converted               100 non-null    object \n",
            " 5   language_preferred      100 non-null    object \n",
            "dtypes: float64(1), int64(1), object(4)\n",
            "memory usage: 4.8+ KB\n"
          ]
        }
      ],
      "source": [
        "df.info()"
      ]
    },
    {
      "cell_type": "markdown",
      "metadata": {
        "id": "4hEIStbvlu9r"
      },
      "source": [
        "There are total 100 non-null observations in each of the columns.\n",
        "\n",
        "There are 6 columns named 'user_id', 'group', 'landing_page', 'time_spent_on_the_page', 'converted', 'language_preferred' whose data types are int64, object, object, float64, object, object respectively.\n",
        "\n",
        "'group', 'landing_page', 'converted', and 'language_preferred' are objects, we can change them to categories."
      ]
    },
    {
      "cell_type": "markdown",
      "metadata": {
        "id": "x3tiWAOtmPav"
      },
      "source": [
        "### Convert Objects to Categories"
      ]
    },
    {
      "cell_type": "code",
      "execution_count": null,
      "metadata": {
        "id": "ZNjcNPFqltzf"
      },
      "outputs": [],
      "source": [
        "df['group'] = df['group'].astype('category')\n",
        "df['landing_page'] = df['landing_page'].astype('category')\n",
        "df['converted'] = df['converted'].astype('category')\n",
        "df['language_preferred'] = df['language_preferred'].astype('category')"
      ]
    },
    {
      "cell_type": "code",
      "execution_count": null,
      "metadata": {
        "colab": {
          "base_uri": "https://localhost:8080/"
        },
        "id": "DpjJPXhEmbEM",
        "outputId": "ff3aed25-1ad4-41fd-a671-afea50b188d7"
      },
      "outputs": [
        {
          "name": "stdout",
          "output_type": "stream",
          "text": [
            "<class 'pandas.core.frame.DataFrame'>\n",
            "RangeIndex: 100 entries, 0 to 99\n",
            "Data columns (total 6 columns):\n",
            " #   Column                  Non-Null Count  Dtype   \n",
            "---  ------                  --------------  -----   \n",
            " 0   user_id                 100 non-null    int64   \n",
            " 1   group                   100 non-null    category\n",
            " 2   landing_page            100 non-null    category\n",
            " 3   time_spent_on_the_page  100 non-null    float64 \n",
            " 4   converted               100 non-null    category\n",
            " 5   language_preferred      100 non-null    category\n",
            "dtypes: category(4), float64(1), int64(1)\n",
            "memory usage: 2.6 KB\n"
          ]
        }
      ],
      "source": [
        "df.info()"
      ]
    },
    {
      "cell_type": "markdown",
      "metadata": {
        "id": "c03Jtwelmy--"
      },
      "source": [
        "## MIssing Values Check and Duplicates"
      ]
    },
    {
      "cell_type": "code",
      "execution_count": null,
      "metadata": {
        "colab": {
          "base_uri": "https://localhost:8080/"
        },
        "id": "1h5PVddnmcwR",
        "outputId": "6521d713-090f-4b4f-e840-0379996ce8c9"
      },
      "outputs": [
        {
          "data": {
            "text/plain": [
              "user_id                   0\n",
              "group                     0\n",
              "landing_page              0\n",
              "time_spent_on_the_page    0\n",
              "converted                 0\n",
              "language_preferred        0\n",
              "dtype: int64"
            ]
          },
          "execution_count": 9,
          "metadata": {},
          "output_type": "execute_result"
        }
      ],
      "source": [
        "df.isnull().sum() "
      ]
    },
    {
      "cell_type": "markdown",
      "metadata": {
        "id": "OaRVe_ihm542"
      },
      "source": [
        "- There are no missing values"
      ]
    },
    {
      "cell_type": "code",
      "execution_count": null,
      "metadata": {
        "colab": {
          "base_uri": "https://localhost:8080/"
        },
        "id": "-IfKE1wtm3Gk",
        "outputId": "80585255-b75f-4698-c6e3-36dbb340a489"
      },
      "outputs": [
        {
          "data": {
            "text/plain": [
              "False"
            ]
          },
          "execution_count": 10,
          "metadata": {},
          "output_type": "execute_result"
        }
      ],
      "source": [
        "df.duplicated().any()"
      ]
    },
    {
      "cell_type": "markdown",
      "metadata": {
        "id": "XocO__j3nFBR"
      },
      "source": [
        "- There are no duplictes in the variables"
      ]
    },
    {
      "cell_type": "markdown",
      "metadata": {
        "id": "6DNfUzIcnfoO"
      },
      "source": [
        "## Statistical Analysis"
      ]
    },
    {
      "cell_type": "code",
      "execution_count": null,
      "metadata": {
        "colab": {
          "base_uri": "https://localhost:8080/",
          "height": 175
        },
        "id": "_3N3O1Idm_FJ",
        "outputId": "a97bef50-2d18-47fc-cf29-45e46126b60f"
      },
      "outputs": [
        {
          "data": {
            "text/html": [
              "<style type=\"text/css\">\n",
              "#T_bc43b_row0_col0, #T_bc43b_row1_col0, #T_bc43b_row2_col0, #T_bc43b_row2_col2, #T_bc43b_row2_col3, #T_bc43b_row3_col0, #T_bc43b_row3_col1 {\n",
              "  background-color: yellow;\n",
              "}\n",
              "</style>\n",
              "<table id=\"T_bc43b_\">\n",
              "  <thead>\n",
              "    <tr>\n",
              "      <th class=\"blank level0\" >&nbsp;</th>\n",
              "      <th class=\"col_heading level0 col0\" >count</th>\n",
              "      <th class=\"col_heading level0 col1\" >unique</th>\n",
              "      <th class=\"col_heading level0 col2\" >top</th>\n",
              "      <th class=\"col_heading level0 col3\" >freq</th>\n",
              "    </tr>\n",
              "  </thead>\n",
              "  <tbody>\n",
              "    <tr>\n",
              "      <th id=\"T_bc43b_level0_row0\" class=\"row_heading level0 row0\" >group</th>\n",
              "      <td id=\"T_bc43b_row0_col0\" class=\"data row0 col0\" >100</td>\n",
              "      <td id=\"T_bc43b_row0_col1\" class=\"data row0 col1\" >2</td>\n",
              "      <td id=\"T_bc43b_row0_col2\" class=\"data row0 col2\" >control</td>\n",
              "      <td id=\"T_bc43b_row0_col3\" class=\"data row0 col3\" >50</td>\n",
              "    </tr>\n",
              "    <tr>\n",
              "      <th id=\"T_bc43b_level0_row1\" class=\"row_heading level0 row1\" >landing_page</th>\n",
              "      <td id=\"T_bc43b_row1_col0\" class=\"data row1 col0\" >100</td>\n",
              "      <td id=\"T_bc43b_row1_col1\" class=\"data row1 col1\" >2</td>\n",
              "      <td id=\"T_bc43b_row1_col2\" class=\"data row1 col2\" >new</td>\n",
              "      <td id=\"T_bc43b_row1_col3\" class=\"data row1 col3\" >50</td>\n",
              "    </tr>\n",
              "    <tr>\n",
              "      <th id=\"T_bc43b_level0_row2\" class=\"row_heading level0 row2\" >converted</th>\n",
              "      <td id=\"T_bc43b_row2_col0\" class=\"data row2 col0\" >100</td>\n",
              "      <td id=\"T_bc43b_row2_col1\" class=\"data row2 col1\" >2</td>\n",
              "      <td id=\"T_bc43b_row2_col2\" class=\"data row2 col2\" >yes</td>\n",
              "      <td id=\"T_bc43b_row2_col3\" class=\"data row2 col3\" >54</td>\n",
              "    </tr>\n",
              "    <tr>\n",
              "      <th id=\"T_bc43b_level0_row3\" class=\"row_heading level0 row3\" >language_preferred</th>\n",
              "      <td id=\"T_bc43b_row3_col0\" class=\"data row3 col0\" >100</td>\n",
              "      <td id=\"T_bc43b_row3_col1\" class=\"data row3 col1\" >3</td>\n",
              "      <td id=\"T_bc43b_row3_col2\" class=\"data row3 col2\" >French</td>\n",
              "      <td id=\"T_bc43b_row3_col3\" class=\"data row3 col3\" >34</td>\n",
              "    </tr>\n",
              "  </tbody>\n",
              "</table>\n"
            ],
            "text/plain": [
              "<pandas.io.formats.style.Styler at 0x1b31a7fbe80>"
            ]
          },
          "execution_count": 11,
          "metadata": {},
          "output_type": "execute_result"
        }
      ],
      "source": [
        "# let's view the statistical summary of the non-numerical columns in the data\n",
        "df.describe(exclude=np.number).T.style.highlight_max(color=\"yellow\", axis=0)"
      ]
    },
    {
      "cell_type": "code",
      "execution_count": null,
      "metadata": {
        "colab": {
          "base_uri": "https://localhost:8080/",
          "height": 132
        },
        "id": "AeHOkLYhnlAB",
        "outputId": "98386dab-75aa-405f-e2ed-1ab7641b9ec3"
      },
      "outputs": [
        {
          "data": {
            "text/html": [
              "<style type=\"text/css\">\n",
              "#T_7a484_row0_col0, #T_7a484_row0_col1, #T_7a484_row0_col2, #T_7a484_row0_col3, #T_7a484_row0_col4, #T_7a484_row0_col5, #T_7a484_row0_col6, #T_7a484_row0_col7, #T_7a484_row1_col0 {\n",
              "  background-color: yellow;\n",
              "}\n",
              "</style>\n",
              "<table id=\"T_7a484_\">\n",
              "  <thead>\n",
              "    <tr>\n",
              "      <th class=\"blank level0\" >&nbsp;</th>\n",
              "      <th class=\"col_heading level0 col0\" >count</th>\n",
              "      <th class=\"col_heading level0 col1\" >mean</th>\n",
              "      <th class=\"col_heading level0 col2\" >std</th>\n",
              "      <th class=\"col_heading level0 col3\" >min</th>\n",
              "      <th class=\"col_heading level0 col4\" >25%</th>\n",
              "      <th class=\"col_heading level0 col5\" >50%</th>\n",
              "      <th class=\"col_heading level0 col6\" >75%</th>\n",
              "      <th class=\"col_heading level0 col7\" >max</th>\n",
              "    </tr>\n",
              "  </thead>\n",
              "  <tbody>\n",
              "    <tr>\n",
              "      <th id=\"T_7a484_level0_row0\" class=\"row_heading level0 row0\" >user_id</th>\n",
              "      <td id=\"T_7a484_row0_col0\" class=\"data row0 col0\" >100.000000</td>\n",
              "      <td id=\"T_7a484_row0_col1\" class=\"data row0 col1\" >546517.000000</td>\n",
              "      <td id=\"T_7a484_row0_col2\" class=\"data row0 col2\" >52.295779</td>\n",
              "      <td id=\"T_7a484_row0_col3\" class=\"data row0 col3\" >546443.000000</td>\n",
              "      <td id=\"T_7a484_row0_col4\" class=\"data row0 col4\" >546467.750000</td>\n",
              "      <td id=\"T_7a484_row0_col5\" class=\"data row0 col5\" >546492.500000</td>\n",
              "      <td id=\"T_7a484_row0_col6\" class=\"data row0 col6\" >546567.250000</td>\n",
              "      <td id=\"T_7a484_row0_col7\" class=\"data row0 col7\" >546592.000000</td>\n",
              "    </tr>\n",
              "    <tr>\n",
              "      <th id=\"T_7a484_level0_row1\" class=\"row_heading level0 row1\" >time_spent_on_the_page</th>\n",
              "      <td id=\"T_7a484_row1_col0\" class=\"data row1 col0\" >100.000000</td>\n",
              "      <td id=\"T_7a484_row1_col1\" class=\"data row1 col1\" >5.377800</td>\n",
              "      <td id=\"T_7a484_row1_col2\" class=\"data row1 col2\" >2.378166</td>\n",
              "      <td id=\"T_7a484_row1_col3\" class=\"data row1 col3\" >0.190000</td>\n",
              "      <td id=\"T_7a484_row1_col4\" class=\"data row1 col4\" >3.880000</td>\n",
              "      <td id=\"T_7a484_row1_col5\" class=\"data row1 col5\" >5.415000</td>\n",
              "      <td id=\"T_7a484_row1_col6\" class=\"data row1 col6\" >7.022500</td>\n",
              "      <td id=\"T_7a484_row1_col7\" class=\"data row1 col7\" >10.710000</td>\n",
              "    </tr>\n",
              "  </tbody>\n",
              "</table>\n"
            ],
            "text/plain": [
              "<pandas.io.formats.style.Styler at 0x1b3157a8c40>"
            ]
          },
          "execution_count": 12,
          "metadata": {},
          "output_type": "execute_result"
        }
      ],
      "source": [
        "# let's view the statistical summary of the numerical columns in the data\n",
        "df.describe(include=np.number).T.style.highlight_max(color=\"yellow\", axis=0)"
      ]
    },
    {
      "cell_type": "code",
      "execution_count": null,
      "metadata": {
        "colab": {
          "base_uri": "https://localhost:8080/",
          "height": 176
        },
        "id": "mvywv0iFnslp",
        "outputId": "7a1af61f-403b-4a13-e893-004f86f42b17"
      },
      "outputs": [
        {
          "data": {
            "text/html": [
              "<div>\n",
              "<style scoped>\n",
              "    .dataframe tbody tr th:only-of-type {\n",
              "        vertical-align: middle;\n",
              "    }\n",
              "\n",
              "    .dataframe tbody tr th {\n",
              "        vertical-align: top;\n",
              "    }\n",
              "\n",
              "    .dataframe thead th {\n",
              "        text-align: right;\n",
              "    }\n",
              "</style>\n",
              "<table border=\"1\" class=\"dataframe\">\n",
              "  <thead>\n",
              "    <tr style=\"text-align: right;\">\n",
              "      <th></th>\n",
              "      <th>count</th>\n",
              "      <th>mean</th>\n",
              "      <th>std</th>\n",
              "      <th>min</th>\n",
              "      <th>25%</th>\n",
              "      <th>50%</th>\n",
              "      <th>75%</th>\n",
              "      <th>max</th>\n",
              "    </tr>\n",
              "  </thead>\n",
              "  <tbody>\n",
              "    <tr>\n",
              "      <th>user_id</th>\n",
              "      <td>100.0</td>\n",
              "      <td>546517.0000</td>\n",
              "      <td>52.295779</td>\n",
              "      <td>546443.00</td>\n",
              "      <td>546467.75</td>\n",
              "      <td>546492.500</td>\n",
              "      <td>546567.2500</td>\n",
              "      <td>546592.00</td>\n",
              "    </tr>\n",
              "    <tr>\n",
              "      <th>time_spent_on_the_page</th>\n",
              "      <td>100.0</td>\n",
              "      <td>5.3778</td>\n",
              "      <td>2.378166</td>\n",
              "      <td>0.19</td>\n",
              "      <td>3.88</td>\n",
              "      <td>5.415</td>\n",
              "      <td>7.0225</td>\n",
              "      <td>10.71</td>\n",
              "    </tr>\n",
              "  </tbody>\n",
              "</table>\n",
              "</div>"
            ],
            "text/plain": [
              "                        count         mean        std        min        25%  \\\n",
              "user_id                 100.0  546517.0000  52.295779  546443.00  546467.75   \n",
              "time_spent_on_the_page  100.0       5.3778   2.378166       0.19       3.88   \n",
              "\n",
              "                               50%          75%        max  \n",
              "user_id                 546492.500  546567.2500  546592.00  \n",
              "time_spent_on_the_page       5.415       7.0225      10.71  "
            ]
          },
          "execution_count": 13,
          "metadata": {},
          "output_type": "execute_result"
        }
      ],
      "source": [
        "df.describe().T"
      ]
    },
    {
      "cell_type": "markdown",
      "metadata": {
        "id": "lH8EXlvTpiLh"
      },
      "source": [
        "- There are 100 unique users.\n",
        "- There are 2 unique groups - control and treatment. Each group consists of 50 users.\n",
        "- There are 2 landing_pages - new and old.\n",
        "- Overall, 54 users get converted and 46 users do not get converted after visiting the landing page.\n",
        "- French is the most preferred language\n",
        "- Time spent on page averagly is 5.4"
      ]
    },
    {
      "cell_type": "code",
      "execution_count": null,
      "metadata": {
        "id": "oEqy5WmOslsa"
      },
      "outputs": [],
      "source": [
        "# We drop UserId as it is not relevant to help us draw inferences on the population\n",
        "df.drop(['user_id'],axis=1,inplace=True)"
      ]
    },
    {
      "cell_type": "code",
      "execution_count": null,
      "metadata": {
        "colab": {
          "base_uri": "https://localhost:8080/"
        },
        "id": "xhwN-B8zsyop",
        "outputId": "fcc8a730-915b-47db-c97a-4abbc3936dce"
      },
      "outputs": [
        {
          "name": "stdout",
          "output_type": "stream",
          "text": [
            "<class 'pandas.core.frame.DataFrame'>\n",
            "RangeIndex: 100 entries, 0 to 99\n",
            "Data columns (total 5 columns):\n",
            " #   Column                  Non-Null Count  Dtype   \n",
            "---  ------                  --------------  -----   \n",
            " 0   group                   100 non-null    category\n",
            " 1   landing_page            100 non-null    category\n",
            " 2   time_spent_on_the_page  100 non-null    float64 \n",
            " 3   converted               100 non-null    category\n",
            " 4   language_preferred      100 non-null    category\n",
            "dtypes: category(4), float64(1)\n",
            "memory usage: 1.8 KB\n"
          ]
        }
      ],
      "source": [
        "df.info()"
      ]
    },
    {
      "cell_type": "markdown",
      "metadata": {
        "id": "wKpcwXHXp8L7"
      },
      "source": [
        "## Exploratory Data Analysis\n",
        "### Univariate Analysis"
      ]
    },
    {
      "cell_type": "code",
      "execution_count": null,
      "metadata": {
        "id": "zKRaEoBGn_lL"
      },
      "outputs": [],
      "source": [
        "def histogram_boxplot(feature, figsize=(15,10), bins = None):\n",
        "    \"\"\" Boxplot and histogram combined\n",
        "    feature: 1-d feature array\n",
        "    figsize: size of fig (default (9,8))\n",
        "    bins: number of bins (default None / auto)\n",
        "    \"\"\"\n",
        "    f2, (ax_box2, ax_hist2) = plt.subplots(nrows = 2, # Number of rows of the subplot grid= 2\n",
        "                                           sharex = True, # x-axis will be shared among all subplots\n",
        "                                           gridspec_kw = {\"height_ratios\": (.25, .75)}, \n",
        "                                           figsize = figsize \n",
        "                                           ) # creating the 2 subplots\n",
        "    sns.boxplot(feature, ax=ax_box2, showmeans=True, color='Lightgreen') # boxplot will be created and a star will indicate the mean value of the column\n",
        "    sns.distplot(feature, kde=F, ax=ax_hist2, bins=bins,palette=\"winter\") if bins else sns.distplot(feature, kde=False, ax=ax_hist2) # For histogram\n",
        "    ax_hist2.axvline(np.mean(feature), color='green', linestyle='--') # Add mean to the histogram\n",
        "    ax_hist2.axvline(np.median(feature), color='black', linestyle='-') # Add median to the histogram"
      ]
    },
    {
      "cell_type": "markdown",
      "metadata": {
        "id": "vu7R1f44s8FP"
      },
      "source": [
        "### Observations on Time Spent on Page"
      ]
    },
    {
      "cell_type": "code",
      "execution_count": null,
      "metadata": {
        "colab": {
          "base_uri": "https://localhost:8080/"
        },
        "id": "tkBsrTbNqRQE",
        "outputId": "159ad8ab-9fc0-4586-a3d5-3c7647bb7355"
      },
      "outputs": [
        {
          "name": "stderr",
          "output_type": "stream",
          "text": [
            "C:\\Users\\HOME\\anaconda3\\lib\\site-packages\\seaborn\\_decorators.py:36: FutureWarning: Pass the following variable as a keyword arg: x. From version 0.12, the only valid positional argument will be `data`, and passing other arguments without an explicit keyword will result in an error or misinterpretation.\n",
            "  warnings.warn(\n",
            "C:\\Users\\HOME\\anaconda3\\lib\\site-packages\\seaborn\\distributions.py:2619: FutureWarning: `distplot` is a deprecated function and will be removed in a future version. Please adapt your code to use either `displot` (a figure-level function with similar flexibility) or `histplot` (an axes-level function for histograms).\n",
            "  warnings.warn(msg, FutureWarning)\n"
          ]
        },
        {
          "data": {
            "image/png": "[encoded data removed]",
            "text/plain": [
              "<Figure size 1080x720 with 2 Axes>"
            ]
          },
          "metadata": {
            "needs_background": "light"
          },
          "output_type": "display_data"
        }
      ],
      "source": [
        "histogram_boxplot(df[\"time_spent_on_the_page\"])"
      ]
    },
    {
      "cell_type": "markdown",
      "metadata": {
        "id": "HeldRZU1rrPw"
      },
      "source": [
        "- The distribution of time spent on the page is normally distributed There are no outliers in this variable."
      ]
    },
    {
      "cell_type": "code",
      "execution_count": null,
      "metadata": {
        "id": "zA8WDgy7rhTf"
      },
      "outputs": [],
      "source": [
        "# function to create labeled barplots\n",
        "\n",
        "\n",
        "def labeled_barplot(data, feature, perc=False, n=None):\n",
        "    \"\"\"\n",
        "    Barplot with percentage at the top\n",
        "\n",
        "    data: dataframe\n",
        "    feature: dataframe column\n",
        "    perc: whether to display percentages instead of count (default is False)\n",
        "    n: displays the top n category levels (default is None, i.e., display all levels)\n",
        "    \"\"\"\n",
        "\n",
        "    total = len(data[feature])  # length of the column\n",
        "    count = data[feature].nunique()\n",
        "    if n is None:\n",
        "        plt.figure(figsize=(count + 1, 5))\n",
        "    else:\n",
        "        plt.figure(figsize=(n + 1, 5))\n",
        "\n",
        "    plt.xticks(rotation=90, fontsize=15)\n",
        "    ax = sns.countplot(data=data, x=feature, palette=\"Paired\", order=data[feature].value_counts().index[:n].sort_values())\n",
        "\n",
        "    for p in ax.patches:\n",
        "        if perc == True:\n",
        "            label = \"{:.1f}%\".format(100 * p.get_height() / total)  # percentage of each class of the category\n",
        "        else:\n",
        "            label = p.get_height()  # count of each level of the category\n",
        "\n",
        "        x = p.get_x() + p.get_width() / 2  # width of the plot\n",
        "        y = p.get_height()      # height of the plot\n",
        "\n",
        "        ax.annotate(label, (x, y), ha=\"center\", va=\"center\", size=12, xytext=(0, 5), textcoords=\"offset points\")  # annotate the percentage\n",
        "\n",
        "    plt.show()  # show the plot"
      ]
    },
    {
      "cell_type": "markdown",
      "metadata": {
        "id": "CKW4e2_qsBWU"
      },
      "source": [
        "### Observations on Landing page"
      ]
    },
    {
      "cell_type": "code",
      "execution_count": null,
      "metadata": {
        "colab": {
          "base_uri": "https://localhost:8080/",
          "height": 356
        },
        "id": "GgHtSL-Zr272",
        "outputId": "f07f8461-a10f-4989-afc9-ec204b9f022e"
      },
      "outputs": [
        {
          "data": {
            "image/png": "[encoded data removed]",
            "text/plain": [
              "<Figure size 216x360 with 1 Axes>"
            ]
          },
          "metadata": {
            "needs_background": "light"
          },
          "output_type": "display_data"
        }
      ],
      "source": [
        "labeled_barplot(df,'landing_page',perc=True)"
      ]
    },
    {
      "cell_type": "markdown",
      "metadata": {
        "id": "d0gl5NQcsKOk"
      },
      "source": [
        "- The distribution of observations across the two landing pages are same."
      ]
    },
    {
      "cell_type": "markdown",
      "metadata": {
        "id": "SAYEWMjesREU"
      },
      "source": [
        "### Observation on group"
      ]
    },
    {
      "cell_type": "code",
      "execution_count": null,
      "metadata": {
        "colab": {
          "base_uri": "https://localhost:8080/",
          "height": 399
        },
        "id": "UzgP9nVxsGFh",
        "outputId": "ea52b7bf-9a43-4ba7-a8cd-abbd4c7711eb"
      },
      "outputs": [
        {
          "data": {
            "image/png": "[encoded data removed]",
            "text/plain": [
              "<Figure size 216x360 with 1 Axes>"
            ]
          },
          "metadata": {
            "needs_background": "light"
          },
          "output_type": "display_data"
        }
      ],
      "source": [
        "labeled_barplot(df,'group',perc=True)"
      ]
    },
    {
      "cell_type": "markdown",
      "metadata": {
        "id": "M_J1hzwCscox"
      },
      "source": [
        "- The distribution of observations across groups are the same."
      ]
    },
    {
      "cell_type": "markdown",
      "metadata": {
        "id": "Ridob7ZztDRL"
      },
      "source": [
        "### Observations on language_preferred"
      ]
    },
    {
      "cell_type": "code",
      "execution_count": null,
      "metadata": {
        "colab": {
          "base_uri": "https://localhost:8080/",
          "height": 384
        },
        "id": "AK2ykBoJsXZI",
        "outputId": "04ceb21d-21bd-4a70-e1eb-8cc077081117"
      },
      "outputs": [
        {
          "data": {
            "image/png": "[encoded data removed]",
            "text/plain": [
              "<Figure size 288x360 with 1 Axes>"
            ]
          },
          "metadata": {
            "needs_background": "light"
          },
          "output_type": "display_data"
        }
      ],
      "source": [
        "\n",
        "labeled_barplot(df,'language_preferred',perc=True)"
      ]
    },
    {
      "cell_type": "markdown",
      "metadata": {
        "id": "HHTK17lAtLP0"
      },
      "source": [
        "- English is the least language_preferred while Spanish and French have equal preference"
      ]
    },
    {
      "cell_type": "markdown",
      "metadata": {
        "id": "TygOa5eMtXyJ"
      },
      "source": [
        "## Bivariate Analysis"
      ]
    },
    {
      "cell_type": "markdown",
      "metadata": {
        "id": "C2Og66V8th_b"
      },
      "source": [
        "### Time Spent on Page Vs Converted"
      ]
    },
    {
      "cell_type": "code",
      "execution_count": null,
      "metadata": {
        "colab": {
          "base_uri": "https://localhost:8080/",
          "height": 498
        },
        "id": "zdftO7NStJy8",
        "outputId": "b1db5cb5-b98e-4a0e-e68d-44c961d5d18b"
      },
      "outputs": [
        {
          "data": {
            "image/png": "[encoded data removed]",
            "text/plain": [
              "<Figure size 576x576 with 1 Axes>"
            ]
          },
          "metadata": {
            "needs_background": "light"
          },
          "output_type": "display_data"
        }
      ],
      "source": [
        "plt.figure(figsize=(8,8))\n",
        "sns.histplot(data = df, x = 'time_spent_on_the_page', hue = 'converted')\n",
        "plt.show()"
      ]
    },
    {
      "cell_type": "markdown",
      "metadata": {
        "id": "moHJP0asq0Sd"
      },
      "source": [
        "- Customers who spent 6 minutes and above got converted.\n"
      ]
    },
    {
      "cell_type": "markdown",
      "metadata": {
        "id": "rg8HvrDKp31H"
      },
      "source": [
        "##  Does the converted status depend on the preferred language?"
      ]
    },
    {
      "cell_type": "code",
      "execution_count": null,
      "metadata": {
        "colab": {
          "base_uri": "https://localhost:8080/",
          "height": 370
        },
        "id": "FlDQj9cpuJcy",
        "outputId": "3a4b714a-634b-4705-e64c-b8853f0ab6a3"
      },
      "outputs": [
        {
          "name": "stderr",
          "output_type": "stream",
          "text": [
            "C:\\Users\\HOME\\anaconda3\\lib\\site-packages\\seaborn\\_decorators.py:36: FutureWarning: Pass the following variable as a keyword arg: x. From version 0.12, the only valid positional argument will be `data`, and passing other arguments without an explicit keyword will result in an error or misinterpretation.\n",
            "  warnings.warn(\n"
          ]
        },
        {
          "data": {
            "image/png": "[encoded data removed]",
            "text/plain": [
              "<Figure size 1080x504 with 1 Axes>"
            ]
          },
          "metadata": {
            "needs_background": "light"
          },
          "output_type": "display_data"
        }
      ],
      "source": [
        "plt.figure(figsize=(15,7))\n",
        "sns.countplot(df[\"converted\"],hue=df[\"language_preferred\"],palette='viridis')\n",
        "plt.legend(bbox_to_anchor=(1.00, 1))\n",
        "plt.show()"
      ]
    },
    {
      "cell_type": "markdown",
      "metadata": {
        "id": "rDdKNjy7p9I7"
      },
      "source": [
        "- Customers who converted prefer English Language\n",
        "- Customers who did not convert prefer French more than the other languages"
      ]
    },
    {
      "cell_type": "markdown",
      "metadata": {
        "id": "C2IC0ARcrULw"
      },
      "source": [
        "## Is the mean time spent on the new page same for the different language users?"
      ]
    },
    {
      "cell_type": "code",
      "execution_count": null,
      "metadata": {
        "colab": {
          "base_uri": "https://localhost:8080/",
          "height": 374
        },
        "id": "Wh9_7IlssEfV",
        "outputId": "978f02ff-48d7-4c2b-9448-c88f41bd777c"
      },
      "outputs": [
        {
          "name": "stderr",
          "output_type": "stream",
          "text": [
            "C:\\Users\\HOME\\anaconda3\\lib\\site-packages\\seaborn\\_decorators.py:36: FutureWarning: Pass the following variables as keyword args: x, y. From version 0.12, the only valid positional argument will be `data`, and passing other arguments without an explicit keyword will result in an error or misinterpretation.\n",
            "  warnings.warn(\n"
          ]
        },
        {
          "data": {
            "image/png": "[encoded data removed]",
            "text/plain": [
              "<Figure size 1080x504 with 1 Axes>"
            ]
          },
          "metadata": {
            "needs_background": "light"
          },
          "output_type": "display_data"
        }
      ],
      "source": [
        "plt.figure(figsize=(15,7))\n",
        "sns.boxplot(df[\"language_preferred\"],df[\"time_spent_on_the_page\"],palette=\"viridis\")\n",
        "plt.show()"
      ]
    },
    {
      "cell_type": "markdown",
      "metadata": {
        "id": "I5IFCO_nstE_"
      },
      "source": [
        "- Users spent slightly more time on French as compared to English\n",
        "- Spanish speaking customers spent less time on the page"
      ]
    },
    {
      "cell_type": "markdown",
      "metadata": {
        "id": "1UzHmBc3tb_l"
      },
      "source": [
        "## Do the users spend more time on the new landing page than the old landing page?"
      ]
    },
    {
      "cell_type": "code",
      "execution_count": null,
      "metadata": {
        "colab": {
          "base_uri": "https://localhost:8080/",
          "height": 374
        },
        "id": "sAF5WvH4sUOO",
        "outputId": "e6f36b7a-de4b-4fcd-9ef8-c7c443adb287"
      },
      "outputs": [
        {
          "name": "stderr",
          "output_type": "stream",
          "text": [
            "C:\\Users\\HOME\\anaconda3\\lib\\site-packages\\seaborn\\_decorators.py:36: FutureWarning: Pass the following variables as keyword args: x, y. From version 0.12, the only valid positional argument will be `data`, and passing other arguments without an explicit keyword will result in an error or misinterpretation.\n",
            "  warnings.warn(\n"
          ]
        },
        {
          "data": {
            "image/png": "[encoded data removed]",
            "text/plain": [
              "<Figure size 1080x504 with 1 Axes>"
            ]
          },
          "metadata": {
            "needs_background": "light"
          },
          "output_type": "display_data"
        }
      ],
      "source": [
        "plt.figure(figsize=(15,7))\n",
        "sns.boxplot(df[\"landing_page\"],df[\"time_spent_on_the_page\"],palette=\"viridis\")\n",
        "plt.show()"
      ]
    },
    {
      "cell_type": "markdown",
      "metadata": {
        "id": "LJSbFPjftwVF"
      },
      "source": [
        "- people spent more times on the new page than the old age"
      ]
    },
    {
      "cell_type": "markdown",
      "metadata": {
        "id": "4xotyDl5viml"
      },
      "source": [
        "## Step 1: Define the null and alternate hypotheses"
      ]
    },
    {
      "cell_type": "markdown",
      "metadata": {
        "id": "Sxs70xWSuNw2"
      },
      "source": [
        "$H_0:$ The mean time spent by the users on the new page is equal to the mean time spent by the users on the old page.\n",
        "\n",
        "$H_a:$ The mean time spent by the users on the new page is greater than the mean time spent by the users on the old page.\n",
        "\n",
        "Let $\\mu_1$ and $\\mu_2$ be the mean time spent by the users on the new and old page respectively.\n",
        "\n",
        "Mathematically, the above formulated hypotheses can be written as:\n",
        "\n",
        "$H_0: \\mu_1 = \\mu_2$\n",
        "\n",
        "$H_a: \\mu_1 > \\mu_2$"
      ]
    },
    {
      "cell_type": "markdown",
      "metadata": {
        "id": "hUmau5zZvvOO"
      },
      "source": [
        "## Step 2: Select Appropriate test"
      ]
    },
    {
      "cell_type": "markdown",
      "metadata": {
        "id": "BHtBsTnWxsW9"
      },
      "source": [
        "- This is a one-tailed test concerning two population means from two independent populations. As the population standard deviations are unknown, the two sample independent t-test will be the appropriate test for this problem."
      ]
    },
    {
      "cell_type": "markdown",
      "metadata": {
        "id": "wqZsidttyZUr"
      },
      "source": [
        "## Step 3: Collect the Data"
      ]
    },
    {
      "cell_type": "code",
      "execution_count": null,
      "metadata": {
        "id": "9gDVGQr2toEP"
      },
      "outputs": [],
      "source": [
        "time_spent_new = df[df['landing_page'] == 'new']['time_spent_on_the_page']\n",
        "time_spent_old = df[df['landing_page'] == 'old']['time_spent_on_the_page']"
      ]
    },
    {
      "cell_type": "code",
      "execution_count": null,
      "metadata": {
        "colab": {
          "base_uri": "https://localhost:8080/"
        },
        "id": "-Terd3EoyDZ2",
        "outputId": "ad3e27ab-6122-43a5-e814-fc7d367e07bd"
      },
      "outputs": [
        {
          "name": "stdout",
          "output_type": "stream",
          "text": [
            "The sample standard deviation of the time spent on the new page is: 1.82\n",
            "The sample standard deviation of the time spent on the new page is: 2.58\n"
          ]
        }
      ],
      "source": [
        "print('The sample standard deviation of the time spent on the new page is:', round(time_spent_new.std(),2))\n",
        "print('The sample standard deviation of the time spent on the new page is:', round(time_spent_old.std(),2))"
      ]
    },
    {
      "cell_type": "markdown",
      "metadata": {
        "id": "OUTZGEsEyUrZ"
      },
      "source": [
        "## Step 4: Calculate the p-value"
      ]
    },
    {
      "cell_type": "code",
      "execution_count": null,
      "metadata": {
        "id": "B6sldzfsyFKf"
      },
      "outputs": [],
      "source": [
        "# import the required function\n",
        "from scipy.stats import ttest_ind\n",
        "# find the p-value"
      ]
    },
    {
      "cell_type": "code",
      "execution_count": null,
      "metadata": {
        "colab": {
          "base_uri": "https://localhost:8080/",
          "height": 201
        },
        "id": "dOc200Zay3NX",
        "outputId": "e2ea4f3e-6cb2-49b3-92dc-efb0555219d8"
      },
      "outputs": [
        {
          "name": "stdout",
          "output_type": "stream",
          "text": [
            "The p-value is 0.0001392381225166549\n"
          ]
        }
      ],
      "source": [
        "test_stat, p_value = ttest_ind(time_spent_new, time_spent_old, equal_var = False, alternative = 'greater')\n",
        "print('The p-value is', p_value)"
      ]
    },
    {
      "cell_type": "markdown",
      "metadata": {
        "id": "Umu6IAYm8t_h"
      },
      "source": [
        "## Step 5: Compare the p-value with $\\alpha$"
      ]
    },
    {
      "cell_type": "markdown",
      "metadata": {
        "id": "HGW6t1-q8t_h"
      },
      "source": [
        "Since the p-value is less than the 5% significance level, we reject the null hypothesis. Hence, we have enough statistical evidence to say that the mean time spent by the users on the new page is greater than the mean time spent by the users on the old page"
      ]
    },
    {
      "cell_type": "markdown",
      "metadata": {
        "id": "Gi92F5UW8t_h"
      },
      "source": [
        "## 3. Is the conversion rate (the proportion of users who visit the landing page and get converted) for the new page greater than the conversion rate for the old page?"
      ]
    },
    {
      "cell_type": "markdown",
      "metadata": {
        "id": "UV9psdhS8t_i"
      },
      "source": [
        "$H_0:$ The conversion rate for the new page is equal to the conversion rate for the old page.\n",
        "\n",
        "$H_a:$ The conversion rate for the new page is greater than the conversion rate for the old page.\n",
        "\n",
        "Let $p_1$ and $p_2$ be the conversion rate for the new and old page respectively.\n",
        "\n",
        "Mathematically, the above formulated hypotheses can be written as:\n",
        "\n",
        "$H_0: p_1 = p_2$\n",
        "\n",
        "$H_a: p_1 > p_2$"
      ]
    },
    {
      "cell_type": "markdown",
      "metadata": {
        "id": "8hUM8OiS8t_i"
      },
      "source": [
        "This is a one-tailed test concerning two population proportions from two independent populations. Hence, the two proportion z-test will be the appropriate test for this problem"
      ]
    },
    {
      "cell_type": "markdown",
      "metadata": {
        "id": "ws-NFlOD8t_i"
      },
      "source": [
        "## Collect and prepare data"
      ]
    },
    {
      "cell_type": "code",
      "execution_count": null,
      "metadata": {
        "id": "F75OnXWy8t_i",
        "outputId": "1779d142-42f1-434d-cfaf-20e0b4a2050c"
      },
      "outputs": [
        {
          "name": "stdout",
          "output_type": "stream",
          "text": [
            "The numbers of converted users for the new and old pages are 33 and 21 respectively\n",
            "The numbers of users served the new and old pages are 50 and 50 respectively\n"
          ]
        }
      ],
      "source": [
        "new_converted = df[df['group'] == 'treatment']['converted'].value_counts()['yes']\n",
        "old_converted = df[df['group'] == 'control']['converted'].value_counts()['yes']\n",
        "print('The numbers of converted users for the new and old pages are {0} and {1} respectively'.format(new_converted, old_converted))\n",
        "n_control = df.group.value_counts()['control'] # number of users in the control group\n",
        "n_treatment = df.group.value_counts()['treatment'] #number of users in the treatment group\n",
        "print('The numbers of users served the new and old pages are {0} and {1} respectively'.format(n_control, n_treatment ))"
      ]
    },
    {
      "cell_type": "markdown",
      "metadata": {
        "id": "reZCwKGN8t_j"
      },
      "source": [
        "### Calculate the Probability"
      ]
    },
    {
      "cell_type": "code",
      "execution_count": null,
      "metadata": {
        "id": "ikiuSi8W8t_j",
        "outputId": "17602a3c-e177-4067-cab7-f220184bdea6"
      },
      "outputs": [
        {
          "name": "stdout",
          "output_type": "stream",
          "text": [
            "The p-value is 0.008026308204056278\n"
          ]
        }
      ],
      "source": [
        "# import the required function\n",
        "from statsmodels.stats.proportion import proportions_ztest\n",
        "\n",
        "# find the p-value\n",
        "test_stat, p_value = proportions_ztest([new_converted, old_converted] , [n_treatment, n_control], alternative = 'larger')\n",
        "print('The p-value is', p_value)"
      ]
    },
    {
      "cell_type": "markdown",
      "metadata": {
        "id": "pcSZTddm8t_k"
      },
      "source": [
        "Since the p-value is less than the 5% significance level, we reject the null hypothesis. Hence, we have enough statistical evidence to say that the conversion rate for the new page is greater than the conversion rate for the old page."
      ]
    },
    {
      "cell_type": "markdown",
      "metadata": {
        "id": "TujyWijX8t_k"
      },
      "source": [
        "## 4. Is the conversion and preferred language are independent or related?"
      ]
    },
    {
      "cell_type": "markdown",
      "metadata": {
        "id": "9WFJWWce8t_k"
      },
      "source": [
        "$H_0:$ The converted status is independent of the preferred language.\n",
        "\n",
        "$H_a:$ The converted status is not independent of the preferred language."
      ]
    },
    {
      "cell_type": "markdown",
      "metadata": {
        "id": "kwJyt5xn8t_k"
      },
      "source": [
        "This is a problem of Chi-square test of independence, concerning the two independent categorical variables, converted status and preferred language."
      ]
    },
    {
      "cell_type": "code",
      "execution_count": null,
      "metadata": {
        "id": "cSErmL8I8t_l",
        "outputId": "72ae2967-7baf-48bb-86cb-ecd0e51f23e1"
      },
      "outputs": [
        {
          "data": {
            "text/html": [
              "<div>\n",
              "<style scoped>\n",
              "    .dataframe tbody tr th:only-of-type {\n",
              "        vertical-align: middle;\n",
              "    }\n",
              "\n",
              "    .dataframe tbody tr th {\n",
              "        vertical-align: top;\n",
              "    }\n",
              "\n",
              "    .dataframe thead th {\n",
              "        text-align: right;\n",
              "    }\n",
              "</style>\n",
              "<table border=\"1\" class=\"dataframe\">\n",
              "  <thead>\n",
              "    <tr style=\"text-align: right;\">\n",
              "      <th>language_preferred</th>\n",
              "      <th>English</th>\n",
              "      <th>French</th>\n",
              "      <th>Spanish</th>\n",
              "    </tr>\n",
              "    <tr>\n",
              "      <th>converted</th>\n",
              "      <th></th>\n",
              "      <th></th>\n",
              "      <th></th>\n",
              "    </tr>\n",
              "  </thead>\n",
              "  <tbody>\n",
              "    <tr>\n",
              "      <th>no</th>\n",
              "      <td>11</td>\n",
              "      <td>19</td>\n",
              "      <td>16</td>\n",
              "    </tr>\n",
              "    <tr>\n",
              "      <th>yes</th>\n",
              "      <td>21</td>\n",
              "      <td>15</td>\n",
              "      <td>18</td>\n",
              "    </tr>\n",
              "  </tbody>\n",
              "</table>\n",
              "</div>"
            ],
            "text/plain": [
              "language_preferred  English  French  Spanish\n",
              "converted                                   \n",
              "no                       11      19       16\n",
              "yes                      21      15       18"
            ]
          },
          "execution_count": 32,
          "metadata": {},
          "output_type": "execute_result"
        }
      ],
      "source": [
        "# create the contingency table showing the distribution of two categorical variables\n",
        "contingency_table = pd.crosstab(df['converted'], df['language_preferred'])\n",
        "contingency_table"
      ]
    },
    {
      "cell_type": "code",
      "execution_count": null,
      "metadata": {
        "id": "W1Ifj6q88t_l",
        "outputId": "57ad947d-066d-44f7-815c-72fec6fd21a9"
      },
      "outputs": [
        {
          "name": "stdout",
          "output_type": "stream",
          "text": [
            "The p-value is 0.21298887487543447\n"
          ]
        }
      ],
      "source": [
        "#import the required function\n",
        "from scipy.stats import chi2_contingency\n",
        "# use chi2_contingency() to find the p-value\n",
        "chi2, p_value, dof, exp_freq = chi2_contingency(contingency_table)\n",
        "# print the p-value\n",
        "print('The p-value is', p_value)"
      ]
    },
    {
      "cell_type": "markdown",
      "metadata": {
        "id": "NJPvgU-a8t_m"
      },
      "source": [
        "Since the p-value is greater than the 5% significance level, we fail to reject the null hypothesis. Hence, we do not have enough statistical evidence to say that the converted status depends on the preferred language."
      ]
    },
    {
      "cell_type": "markdown",
      "metadata": {
        "id": "fz6WaD5j8t_m"
      },
      "source": [
        "## 5. Is the time spent on the new page same for the different language users?"
      ]
    },
    {
      "cell_type": "markdown",
      "metadata": {
        "id": "3aSOkdfc8t_m"
      },
      "source": [
        "$H_0:$ The mean times spent on the new page by English, French, and Spanish users are equal.\n",
        "\n",
        "$H_a:$ At least one of the mean times spent on the new page by English, French, and Spanish users is unequal."
      ]
    },
    {
      "cell_type": "markdown",
      "metadata": {
        "id": "qsa7IIhH8t_m"
      },
      "source": [
        "This is a problem, concerning three population means. One-way ANOVA could be the appropriate test here provided normality and equality of variance assumptions are verified.\n",
        "\n",
        "* For testing of normality, Shapiro-Wilk’s test is applied to the response variable.\n",
        "\n",
        "* For equality of variance, Levene test is applied to the response variable."
      ]
    },
    {
      "cell_type": "markdown",
      "metadata": {
        "id": "ImZMLHMx8t_n"
      },
      "source": [
        "### Shapiro-Wilk’s test\n",
        "\n",
        "We will test the null hypothesis\n",
        "\n",
        ">$H_0:$ Time spent on the new page follows a normal distribution\n",
        "\n",
        "against the alternative hypothesis\n",
        "\n",
        ">$H_a:$ Time spent on the new page does not follow a normal distribution"
      ]
    },
    {
      "cell_type": "code",
      "execution_count": null,
      "metadata": {
        "id": "ke-q3aUx8t_o",
        "outputId": "ddab86a8-1e84-4654-e390-9abebd6b96f6"
      },
      "outputs": [
        {
          "data": {
            "text/plain": [
              "language_preferred\n",
              "English    5.559062\n",
              "French     5.253235\n",
              "Spanish    5.331765\n",
              "Name: time_spent_on_the_page, dtype: float64"
            ]
          },
          "execution_count": 34,
          "metadata": {},
          "output_type": "execute_result"
        }
      ],
      "source": [
        "# Checking the mean time spent on the new page for different language users\n",
        "df.groupby(['language_preferred'])['time_spent_on_the_page'].mean()"
      ]
    },
    {
      "cell_type": "code",
      "execution_count": null,
      "metadata": {
        "id": "xfOR8XeJ8t_o",
        "outputId": "12bb4921-2ebd-4e3b-c024-a0260c1290d0"
      },
      "outputs": [
        {
          "name": "stdout",
          "output_type": "stream",
          "text": [
            "The p-value is 0.5643684267997742\n"
          ]
        }
      ],
      "source": [
        "## Assumption 1: Normality\n",
        "##  import the required function\n",
        "from scipy.stats import shapiro\n",
        "\n",
        "##  find the p-value\n",
        "w, p_value = shapiro(df['time_spent_on_the_page']) \n",
        "print('The p-value is', p_value)"
      ]
    },
    {
      "cell_type": "markdown",
      "metadata": {
        "id": "T7Y-pHye8t_o"
      },
      "source": [
        "Since p-value of the test is very large than the 5% significance level, we fail to reject the null hypothesis that the response follows the normal distribution."
      ]
    },
    {
      "cell_type": "markdown",
      "metadata": {
        "id": "MjEIevOA8t_p"
      },
      "source": [
        "### Levene’s test\n",
        "\n",
        "We will test the null hypothesis\n",
        "\n",
        ">$H_0$: All the population variances are equal\n",
        "\n",
        "against the alternative hypothesis\n",
        "\n",
        ">$H_a$: At least one variance is different from the rest"
      ]
    },
    {
      "cell_type": "code",
      "execution_count": null,
      "metadata": {
        "id": "CV2efwgM8t_p",
        "outputId": "190c68b1-c6b0-466b-cbd3-0d3d34b8b8cb"
      },
      "outputs": [
        {
          "name": "stdout",
          "output_type": "stream",
          "text": [
            "The p-value is 0.06515086840327314\n"
          ]
        }
      ],
      "source": [
        "#Assumption 2: Homogeneity of Variance\n",
        "#import the required function\n",
        "from scipy.stats import levene\n",
        "statistic, p_value = levene( df[df['language_preferred']==\"English\"]['time_spent_on_the_page'], \n",
        "                             df[df['language_preferred']==\"French\"]['time_spent_on_the_page'], \n",
        "                             df[df['language_preferred']==\"Spanish\"]['time_spent_on_the_page'])\n",
        "# find the p-value\n",
        "print('The p-value is', p_value)"
      ]
    },
    {
      "cell_type": "markdown",
      "metadata": {
        "id": "JZlDYX7p8t_p"
      },
      "source": [
        "Since the p-value is large than the 5% significance level, we fail to reject the null hypothesis of homogeneity of variances."
      ]
    },
    {
      "cell_type": "code",
      "execution_count": null,
      "metadata": {
        "id": "4qftnWLP8t_q"
      },
      "outputs": [],
      "source": [
        "time_spent_English = df[df['language_preferred']==\"English\"]['time_spent_on_the_page']\n",
        "time_spent_French = df[df['language_preferred']==\"French\"]['time_spent_on_the_page']\n",
        "time_spent_Spanish = df[df['language_preferred']==\"Spanish\"]['time_spent_on_the_page']"
      ]
    },
    {
      "cell_type": "code",
      "execution_count": null,
      "metadata": {
        "id": "IOG6OxDv8t_q",
        "outputId": "9920a5dc-1a02-4c21-99f9-d6055e1afe03"
      },
      "outputs": [
        {
          "name": "stdout",
          "output_type": "stream",
          "text": [
            "The p-value is 0.8665610536012648\n"
          ]
        }
      ],
      "source": [
        "# import the required function\n",
        "from scipy.stats import f_oneway\n",
        "# find the p-value\n",
        "test_stat, p_value = f_oneway(time_spent_English, time_spent_French, time_spent_Spanish)\n",
        "# print the p-value\n",
        "print('The p-value is', p_value)"
      ]
    },
    {
      "cell_type": "markdown",
      "metadata": {
        "id": "uoGHaIx98t_q"
      },
      "source": [
        "As the p-value 0.8665610536012648 is greater than the level of significance, we fail to reject the null hypothesis."
      ]
    },
    {
      "cell_type": "markdown",
      "metadata": {
        "id": "dtThv0jj8t_r"
      },
      "source": [
        "## Conclusion\n",
        "\n",
        "-Users spend more time on the new landing page than the old landing page\n",
        "- More time is spent on new landing page than on the old landing page.\n",
        "- More time is spent on English language in the new landing page as compared to French and Spanish\n",
        "- Spanish language is the most prefered as more time is spent in the old landing page.\n",
        "- Less English language is prefered in the old landing page\n",
        "- Treatment group has a higher median value on time spent on the pages than control group.\n",
        "- Control group has no outliers and tratment group has outliers below the minimum and above the minimum time spent on the page"
      ]
    }
  ],
  "metadata": {
    "colab": {
      "collapsed_sections": [
        "vu7R1f44s8FP",
        "Umu6IAYm8t_h",
        "reZCwKGN8t_j",
        "TujyWijX8t_k",
        "fz6WaD5j8t_m",
        "ImZMLHMx8t_n",
        "MjEIevOA8t_p",
        "dtThv0jj8t_r"
      ],
      "name": "E_news_Express_Project(Ibitoye).ipynb",
      "provenance": [],
      "toc_visible": true,
      "include_colab_link": true
    },
    "kernelspec": {
      "display_name": "Python 3 (ipykernel)",
      "language": "python",
      "name": "python3"
    },
    "language_info": {
      "codemirror_mode": {
        "name": "ipython",
        "version": 3
      },
      "file_extension": ".py",
      "mimetype": "text/x-python",
      "name": "python",
      "nbconvert_exporter": "python",
      "pygments_lexer": "ipython3",
      "version": "3.9.7"
    }
  },
  "nbformat": 4,
  "nbformat_minor": 0
}